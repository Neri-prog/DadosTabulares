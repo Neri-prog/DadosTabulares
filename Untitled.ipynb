{
 "cells": [
  {
   "cell_type": "code",
   "execution_count": 231,
   "id": "93660b30-acca-4727-be06-5826d53dbfed",
   "metadata": {},
   "outputs": [],
   "source": [
    "import numpy as np\n",
    "import pandas as pd \n",
    "import seaborn as sns\n",
    "import matplotlib.pyplot as plt"
   ]
  },
  {
   "cell_type": "code",
   "execution_count": 232,
   "id": "a7a2a7e0-4d0e-458e-b85b-d0ec61876552",
   "metadata": {},
   "outputs": [
    {
     "data": {
      "text/html": [
       "<div>\n",
       "<style scoped>\n",
       "    .dataframe tbody tr th:only-of-type {\n",
       "        vertical-align: middle;\n",
       "    }\n",
       "\n",
       "    .dataframe tbody tr th {\n",
       "        vertical-align: top;\n",
       "    }\n",
       "\n",
       "    .dataframe thead th {\n",
       "        text-align: right;\n",
       "    }\n",
       "</style>\n",
       "<table border=\"1\" class=\"dataframe\">\n",
       "  <thead>\n",
       "    <tr style=\"text-align: right;\">\n",
       "      <th></th>\n",
       "      <th>State</th>\n",
       "      <th>City</th>\n",
       "      <th>Year</th>\n",
       "      <th>Month</th>\n",
       "      <th>Day</th>\n",
       "      <th>Store type</th>\n",
       "      <th>Price per kilogram</th>\n",
       "    </tr>\n",
       "  </thead>\n",
       "  <tbody>\n",
       "    <tr>\n",
       "      <th>0</th>\n",
       "      <td>Aguascalientes</td>\n",
       "      <td>Aguascalientes</td>\n",
       "      <td>2007</td>\n",
       "      <td>1</td>\n",
       "      <td>10</td>\n",
       "      <td>Mom and Pop Store</td>\n",
       "      <td>9.9</td>\n",
       "    </tr>\n",
       "    <tr>\n",
       "      <th>1</th>\n",
       "      <td>Baja California</td>\n",
       "      <td>Mexicali</td>\n",
       "      <td>2007</td>\n",
       "      <td>1</td>\n",
       "      <td>10</td>\n",
       "      <td>Mom and Pop Store</td>\n",
       "      <td>NaN</td>\n",
       "    </tr>\n",
       "    <tr>\n",
       "      <th>2</th>\n",
       "      <td>Baja California</td>\n",
       "      <td>Tijuana</td>\n",
       "      <td>2007</td>\n",
       "      <td>1</td>\n",
       "      <td>10</td>\n",
       "      <td>Mom and Pop Store</td>\n",
       "      <td>10.0</td>\n",
       "    </tr>\n",
       "    <tr>\n",
       "      <th>3</th>\n",
       "      <td>Baja California Sur</td>\n",
       "      <td>La Paz</td>\n",
       "      <td>2007</td>\n",
       "      <td>1</td>\n",
       "      <td>10</td>\n",
       "      <td>Mom and Pop Store</td>\n",
       "      <td>10.0</td>\n",
       "    </tr>\n",
       "    <tr>\n",
       "      <th>4</th>\n",
       "      <td>Campeche</td>\n",
       "      <td>Campeche</td>\n",
       "      <td>2007</td>\n",
       "      <td>1</td>\n",
       "      <td>10</td>\n",
       "      <td>Mom and Pop Store</td>\n",
       "      <td>10.0</td>\n",
       "    </tr>\n",
       "  </tbody>\n",
       "</table>\n",
       "</div>"
      ],
      "text/plain": [
       "                 State            City  Year  Month  Day         Store type  \\\n",
       "0       Aguascalientes  Aguascalientes  2007      1   10  Mom and Pop Store   \n",
       "1      Baja California        Mexicali  2007      1   10  Mom and Pop Store   \n",
       "2      Baja California         Tijuana  2007      1   10  Mom and Pop Store   \n",
       "3  Baja California Sur          La Paz  2007      1   10  Mom and Pop Store   \n",
       "4             Campeche        Campeche  2007      1   10  Mom and Pop Store   \n",
       "\n",
       "   Price per kilogram  \n",
       "0                 9.9  \n",
       "1                 NaN  \n",
       "2                10.0  \n",
       "3                10.0  \n",
       "4                10.0  "
      ]
     },
     "execution_count": 232,
     "metadata": {},
     "output_type": "execute_result"
    }
   ],
   "source": [
    "df = pd.read_csv('tortilla_prices.csv')\n",
    "df.head()"
   ]
  },
  {
   "cell_type": "code",
   "execution_count": 233,
   "id": "7e50f8ef-8bc4-4f89-99f3-db8864a0f2e1",
   "metadata": {},
   "outputs": [
    {
     "name": "stdout",
     "output_type": "stream",
     "text": [
      "<class 'pandas.core.frame.DataFrame'>\n",
      "RangeIndex: 278886 entries, 0 to 278885\n",
      "Data columns (total 7 columns):\n",
      " #   Column              Non-Null Count   Dtype  \n",
      "---  ------              --------------   -----  \n",
      " 0   State               278886 non-null  object \n",
      " 1   City                278886 non-null  object \n",
      " 2   Year                278886 non-null  int64  \n",
      " 3   Month               278886 non-null  int64  \n",
      " 4   Day                 278886 non-null  int64  \n",
      " 5   Store type          278886 non-null  object \n",
      " 6   Price per kilogram  272496 non-null  float64\n",
      "dtypes: float64(1), int64(3), object(3)\n",
      "memory usage: 14.9+ MB\n"
     ]
    }
   ],
   "source": [
    "df.info()"
   ]
  },
  {
   "cell_type": "code",
   "execution_count": 234,
   "id": "a28a95f7-0359-4bbb-a672-f9157e0eb39e",
   "metadata": {},
   "outputs": [
    {
     "data": {
      "text/plain": [
       "State                    0\n",
       "City                     0\n",
       "Year                     0\n",
       "Month                    0\n",
       "Day                      0\n",
       "Store type               0\n",
       "Price per kilogram    6390\n",
       "dtype: int64"
      ]
     },
     "execution_count": 234,
     "metadata": {},
     "output_type": "execute_result"
    }
   ],
   "source": [
    "df.isnull().sum()"
   ]
  },
  {
   "cell_type": "code",
   "execution_count": 235,
   "id": "5235f821-a5af-449f-b59e-d5fe2d660533",
   "metadata": {},
   "outputs": [],
   "source": [
    "df_sem_nulos = df.fillna(0)"
   ]
  },
  {
   "cell_type": "code",
   "execution_count": 236,
   "id": "7ac9a5b2-332f-41cb-ad3a-ce63490860ba",
   "metadata": {},
   "outputs": [],
   "source": [
    "tem_nulos_apos_tratamento = df_sem_nulos.isnull().any().any()"
   ]
  },
  {
   "cell_type": "code",
   "execution_count": 237,
   "id": "8797f0af-66c7-4248-b094-4b2d45b6f239",
   "metadata": {},
   "outputs": [
    {
     "name": "stdout",
     "output_type": "stream",
     "text": [
      "Há valores nulos no DataFrame após o tratamento: False\n"
     ]
    }
   ],
   "source": [
    "print(\"Há valores nulos no DataFrame após o tratamento:\", tem_nulos_apos_tratamento)"
   ]
  },
  {
   "cell_type": "code",
   "execution_count": 238,
   "id": "4a44d94a-11d8-4ada-bdae-f81292b15a3b",
   "metadata": {},
   "outputs": [
    {
     "data": {
      "text/html": [
       "<div>\n",
       "<style scoped>\n",
       "    .dataframe tbody tr th:only-of-type {\n",
       "        vertical-align: middle;\n",
       "    }\n",
       "\n",
       "    .dataframe tbody tr th {\n",
       "        vertical-align: top;\n",
       "    }\n",
       "\n",
       "    .dataframe thead th {\n",
       "        text-align: right;\n",
       "    }\n",
       "</style>\n",
       "<table border=\"1\" class=\"dataframe\">\n",
       "  <thead>\n",
       "    <tr style=\"text-align: right;\">\n",
       "      <th></th>\n",
       "      <th>Year</th>\n",
       "      <th>Month</th>\n",
       "      <th>Day</th>\n",
       "      <th>Price per kilogram</th>\n",
       "    </tr>\n",
       "  </thead>\n",
       "  <tbody>\n",
       "    <tr>\n",
       "      <th>count</th>\n",
       "      <td>278886.000000</td>\n",
       "      <td>278886.000000</td>\n",
       "      <td>278886.000000</td>\n",
       "      <td>272496.000000</td>\n",
       "    </tr>\n",
       "    <tr>\n",
       "      <th>mean</th>\n",
       "      <td>2015.080015</td>\n",
       "      <td>6.384781</td>\n",
       "      <td>15.951955</td>\n",
       "      <td>12.054586</td>\n",
       "    </tr>\n",
       "    <tr>\n",
       "      <th>std</th>\n",
       "      <td>4.912392</td>\n",
       "      <td>3.440216</td>\n",
       "      <td>8.755248</td>\n",
       "      <td>4.336487</td>\n",
       "    </tr>\n",
       "    <tr>\n",
       "      <th>min</th>\n",
       "      <td>2007.000000</td>\n",
       "      <td>1.000000</td>\n",
       "      <td>1.000000</td>\n",
       "      <td>0.000000</td>\n",
       "    </tr>\n",
       "    <tr>\n",
       "      <th>25%</th>\n",
       "      <td>2011.000000</td>\n",
       "      <td>3.000000</td>\n",
       "      <td>8.000000</td>\n",
       "      <td>9.570000</td>\n",
       "    </tr>\n",
       "    <tr>\n",
       "      <th>50%</th>\n",
       "      <td>2015.000000</td>\n",
       "      <td>6.000000</td>\n",
       "      <td>16.000000</td>\n",
       "      <td>11.170000</td>\n",
       "    </tr>\n",
       "    <tr>\n",
       "      <th>75%</th>\n",
       "      <td>2019.000000</td>\n",
       "      <td>9.000000</td>\n",
       "      <td>24.000000</td>\n",
       "      <td>14.000000</td>\n",
       "    </tr>\n",
       "    <tr>\n",
       "      <th>max</th>\n",
       "      <td>2024.000000</td>\n",
       "      <td>12.000000</td>\n",
       "      <td>31.000000</td>\n",
       "      <td>31.000000</td>\n",
       "    </tr>\n",
       "  </tbody>\n",
       "</table>\n",
       "</div>"
      ],
      "text/plain": [
       "                Year          Month            Day  Price per kilogram\n",
       "count  278886.000000  278886.000000  278886.000000       272496.000000\n",
       "mean     2015.080015       6.384781      15.951955           12.054586\n",
       "std         4.912392       3.440216       8.755248            4.336487\n",
       "min      2007.000000       1.000000       1.000000            0.000000\n",
       "25%      2011.000000       3.000000       8.000000            9.570000\n",
       "50%      2015.000000       6.000000      16.000000           11.170000\n",
       "75%      2019.000000       9.000000      24.000000           14.000000\n",
       "max      2024.000000      12.000000      31.000000           31.000000"
      ]
     },
     "execution_count": 238,
     "metadata": {},
     "output_type": "execute_result"
    }
   ],
   "source": [
    "df.describe()"
   ]
  },
  {
   "cell_type": "code",
   "execution_count": 239,
   "id": "21b6a3fb-2190-4aa0-8ff9-3deda7c23847",
   "metadata": {},
   "outputs": [],
   "source": [
    "preco_por_ano = df.groupby('Year')['Price per kilogram'].mean()"
   ]
  },
  {
   "cell_type": "code",
   "execution_count": 240,
   "id": "d2a81952-dbb2-4fb8-89c5-3e1e2dabfd15",
   "metadata": {},
   "outputs": [
    {
     "data": {
      "image/png": "[encoded data removed]",
      "text/plain": [
       "<Figure size 1000x600 with 1 Axes>"
      ]
     },
     "metadata": {},
     "output_type": "display_data"
    }
   ],
   "source": [
    "preco_por_ano.plot(kind='bar', figsize=(10, 6), color='skyblue')\n",
    "plt.title('Média de Preço por Quilograma de Tortilha por Ano')\n",
    "plt.xlabel('Ano')\n",
    "plt.ylabel('Preço Médio por Quilograma')\n",
    "plt.xticks(rotation=45)\n",
    "plt.show()"
   ]
  },
  {
   "cell_type": "markdown",
   "id": "63405db1-561a-45ae-baab-8d901cc942c3",
   "metadata": {},
   "source": [
    "*Nota-se um aumento maior do preço após o fim da pandemia (Covid 19)"
   ]
  },
  {
   "cell_type": "code",
   "execution_count": 241,
   "id": "3f55de6b-45d0-42fc-b637-96530a9a7d72",
   "metadata": {},
   "outputs": [],
   "source": [
    "df_estados_unicos = pd.DataFrame(estados_unicos, columns=['Estados'])"
   ]
  },
  {
   "cell_type": "code",
   "execution_count": 242,
   "id": "d0342e69-603c-4520-85d2-cfa4e6ffb10f",
   "metadata": {},
   "outputs": [
    {
     "name": "stdout",
     "output_type": "stream",
     "text": [
      "                Estados\n",
      "0        Aguascalientes\n",
      "1       Baja California\n",
      "2   Baja California Sur\n",
      "3              Campeche\n",
      "4              Coahuila\n",
      "5                Colima\n",
      "6               Chiapas\n",
      "7             Chihuahua\n",
      "8                  D.F.\n",
      "9               Durango\n",
      "10           Guanajuato\n",
      "11             Guerrero\n",
      "12              Hidalgo\n",
      "13              Jalisco\n",
      "14          Edo. México\n",
      "15            Michoacán\n",
      "16              Morelos\n",
      "17              Nayarit\n",
      "18           Nuevo León\n",
      "19               Oaxaca\n",
      "20               Puebla\n",
      "21            Querétaro\n",
      "22         Quintana Roo\n",
      "23      San Luis Potosí\n",
      "24              Sinaloa\n",
      "25               Sonora\n",
      "26              Tabasco\n",
      "27           Tamaulipas\n",
      "28             Tlaxcala\n",
      "29             Veracruz\n",
      "30              Yucatán\n",
      "31            Zacatecas\n"
     ]
    }
   ],
   "source": [
    "#verificar se teria algum estado com erro ortografico duplicando informação\n",
    "print(df_estados_unicos)"
   ]
  },
  {
   "cell_type": "code",
   "execution_count": 243,
   "id": "523bc88d-e39e-4e7d-b12c-c568d6d18d7c",
   "metadata": {},
   "outputs": [],
   "source": [
    "preco_por_cidade = df.groupby('City')['Price per kilogram'].mean()"
   ]
  },
  {
   "cell_type": "code",
   "execution_count": 244,
   "id": "ac05ba35-41b2-40da-89ea-7159aba28597",
   "metadata": {},
   "outputs": [],
   "source": [
    "#identificar as cidades com os preços mais altos e mais baixos\n",
    "cidade_preco_mais_alto = preco_por_cidade.idxmax()\n",
    "preco_mais_alto = preco_por_cidade.max()\n",
    "cidade_preco_mais_baixo = preco_por_cidade.idxmin()\n",
    "preco_mais_baixo = preco_por_cidade.min()"
   ]
  },
  {
   "cell_type": "code",
   "execution_count": 245,
   "id": "8c5a873d-27d0-4099-a425-7ed4f425a2ea",
   "metadata": {},
   "outputs": [
    {
     "name": "stdout",
     "output_type": "stream",
     "text": [
      "Cidade com o preço mais alto para tortilhas: Hermosillo com preço médio de 14.200922444183314\n",
      "Cidade com o preço mais baixo para tortilhas: Irapuato com preço médio de 9.373014874141877\n"
     ]
    }
   ],
   "source": [
    "print(\"Cidade com o preço mais alto para tortilhas:\", cidade_preco_mais_alto, \"com preço médio de\", preco_mais_alto)\n",
    "print(\"Cidade com o preço mais baixo para tortilhas:\", cidade_preco_mais_baixo, \"com preço médio de\", preco_mais_baixo)"
   ]
  },
  {
   "cell_type": "markdown",
   "id": "fa09b5a2-f5d6-4d1d-81a2-e9a203bf62cd",
   "metadata": {},
   "source": [
    "*Nota-se que Hermosillo mais ao norte do mexico tem preço mais caros e Iraputo mais ao centro do País preços mais baixos."
   ]
  },
  {
   "cell_type": "code",
   "execution_count": 246,
   "id": "37e6749a-b5a1-4b42-9338-28234674d4dc",
   "metadata": {},
   "outputs": [],
   "source": [
    "preco_medio_por_tipo_loja = df.groupby('Store type')['Price per kilogram'].mean()"
   ]
  },
  {
   "cell_type": "code",
   "execution_count": 247,
   "id": "ba0c0ab8-2065-4b88-b9da-6a4c41148152",
   "metadata": {},
   "outputs": [
    {
     "data": {
      "image/png": "[encoded data removed]",
      "text/plain": [
       "<Figure size 1000x600 with 1 Axes>"
      ]
     },
     "metadata": {},
     "output_type": "display_data"
    }
   ],
   "source": [
    "plt.figure(figsize=(10, 6))\n",
    "preco_medio_por_tipo_loja.plot(kind='bar', color=['blue', 'green'])\n",
    "plt.title('Comparação de Preços Médios entre Lojas Familiares e Grandes Varejistas')\n",
    "plt.xlabel('Tipo de Loja')\n",
    "plt.ylabel('Preço Médio por Quilograma')\n",
    "plt.xticks(rotation=0)\n",
    "plt.show()"
   ]
  },
  {
   "cell_type": "markdown",
   "id": "5dc44954-2287-4910-a15a-b036c84ac705",
   "metadata": {},
   "source": [
    "*A diferença de preço entre lojas de grande varejistas e lojas familiares mostra que quem tem um poder aquisitivo maior consegue comprar em grandes quantidades e ter preços mais acessiveis."
   ]
  },
  {
   "cell_type": "code",
   "execution_count": null,
   "id": "eeb94969-4175-4560-b625-159955fdb0d5",
   "metadata": {},
   "outputs": [],
   "source": []
  }
 ],
 "metadata": {
  "kernelspec": {
   "display_name": "Python 3 (ipykernel)",
   "language": "python",
   "name": "python3"
  },
  "language_info": {
   "codemirror_mode": {
    "name": "ipython",
    "version": 3
   },
   "file_extension": ".py",
   "mimetype": "text/x-python",
   "name": "python",
   "nbconvert_exporter": "python",
   "pygments_lexer": "ipython3",
   "version": "3.11.7"
  }
 },
 "nbformat": 4,
 "nbformat_minor": 5
}
